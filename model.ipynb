{
 "cells": [
  {
   "cell_type": "code",
   "execution_count": 1,
   "metadata": {},
   "outputs": [],
   "source": [
    "import numpy as np\n",
    "import pandas as pd\n",
    "import sklearn as sk\n",
    "import matplotlib.pyplot as plt\n",
    "from sklearn.metrics.pairwise import cosine_similarity"
   ]
  },
  {
   "cell_type": "code",
   "execution_count": 2,
   "metadata": {},
   "outputs": [
    {
     "name": "stdout",
     "output_type": "stream",
     "text": [
      "Empty DataFrame\n",
      "Columns: []\n",
      "Index: [2010-12-20, 2011-02-05, 2011-05-31, 2011-06-05, 2011-06-15, 2011-07-02, 2011-07-03, 2011-11-27, 2011-12-21, 2011-12-29, 2012-01-06, 2012-01-19, 2012-02-17, 2012-07-12, 2012-07-13, 2012-07-14, 2012-07-19, 2012-07-30, 2012-08-15, 2012-10-07, 2012-12-18, 2013-01-03, 2013-01-26, 2013-02-15, 2013-03-02, 2013-03-24, 2013-03-27, 2013-03-30, 2013-04-07, 2013-05-05, 2013-05-09, 2013-05-30, 2013-06-08, 2013-06-21, 2013-07-12, 2013-07-15, 2013-07-24, 2013-07-26, 2013-07-30, 2013-08-01, 2013-08-08, 2013-08-13, 2013-08-18, 2013-09-15, 2013-09-20, 2013-09-21, 2013-10-02, 2013-10-04, 2013-10-06, 2013-11-15, 2013-11-25, 2013-11-29, 2013-11-30, 2013-12-01, 2013-12-02, 2013-12-03, 2013-12-04, 2013-12-05, 2013-12-06, 2013-12-07, 2013-12-10, 2013-12-11, 2013-12-12, 2013-12-13, 2013-12-14, 2013-12-15, 2013-12-16, 2013-12-17, 2013-12-18, 2013-12-19, 2013-12-20, 2013-12-21, 2013-12-22, 2013-12-23, 2013-12-24, 2013-12-25, 2013-12-26, 2013-12-27, 2013-12-28, 2013-12-29, 2013-12-30, 2013-12-31, 2014-01-01, 2014-01-02, 2014-01-03, 2014-01-04, 2014-01-05, 2014-01-06, 2014-01-07, 2014-01-08, 2014-01-09, 2014-01-10, 2014-01-11, 2014-01-12, 2014-01-13, 2014-01-14, 2014-01-15, 2014-01-16, 2014-01-17, 2014-01-18, ...]\n",
      "\n",
      "[1953 rows x 0 columns]\n"
     ]
    },
    {
     "name": "stderr",
     "output_type": "stream",
     "text": [
      "/tmp/ipykernel_1443/2373340343.py:7: FutureWarning: The default value of numeric_only in DataFrameGroupBy.mean is deprecated. In a future version, numeric_only will default to False. Either specify numeric_only or select only columns which should be valid for the function.\n",
      "  matrix = clean_game_reviews_df.pivot_table(columns='title', index='date_posted', values='recommendation')\n"
     ]
    }
   ],
   "source": [
    "game_reviews_df = pd.read_csv('steam_reviews.csv')\n",
    "# print(game_reviews_df)\n",
    "\n",
    "clean_game_reviews_df = game_reviews_df.drop(['review', 'is_early_access_review'], axis=1)\n",
    "# print(clean_game_reviews_df)\n",
    "\n",
    "matrix = clean_game_reviews_df.pivot_table(columns='title', index='date_posted', values='recommendation')\n",
    "print(matrix)"
   ]
  }
 ],
 "metadata": {
  "kernelspec": {
   "display_name": "Python 3.11.0 ('sklearn-env')",
   "language": "python",
   "name": "python3"
  },
  "language_info": {
   "codemirror_mode": {
    "name": "ipython",
    "version": 3
   },
   "file_extension": ".py",
   "mimetype": "text/x-python",
   "name": "python",
   "nbconvert_exporter": "python",
   "pygments_lexer": "ipython3",
   "version": "3.9.15"
  },
  "orig_nbformat": 4,
  "vscode": {
   "interpreter": {
    "hash": "b5b0bceac983489eee595562626dfc69d58693c6ea01f0b27f34fa9d6b8e3c1a"
   }
  }
 },
 "nbformat": 4,
 "nbformat_minor": 2
}
