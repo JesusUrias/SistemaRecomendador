{
 "cells": [
  {
   "cell_type": "code",
   "execution_count": 2,
   "metadata": {},
   "outputs": [],
   "source": [
    "import numpy as np\n",
    "import pandas as pd\n",
    "import sklearn as sk\n",
    "import matplotlib.pyplot as plt\n",
    "from sklearn.metrics.pairwise import cosine_similarity"
   ]
  },
  {
   "cell_type": "code",
   "execution_count": 3,
   "metadata": {},
   "outputs": [],
   "source": [
    "game_reviews_df = pd.read_csv('steam-200k.csv')\n",
    "\n",
    "clean_game_reviews_df = game_reviews_df.drop(['0', 'purchase'], axis=1)\n",
    "clean_game_reviews_df = clean_game_reviews_df.rename({'151603712': 'User', 'The Elder Scrolls V Skyrim': 'Game', '1.0': 'PlayTime'}, axis=1)\n",
    "# hacemos una matriz con los juegos como columnas, los usuarios como indices y los valores entre ambos será el tiempo de juego\n",
    "# también llenamos los valores nulos con 0\n",
    "matrix = clean_game_reviews_df.pivot_table(columns='Game', index='User', values='PlayTime', fill_value=0)"
   ]
  },
  {
   "cell_type": "code",
   "execution_count": 4,
   "metadata": {},
   "outputs": [],
   "source": [
    "#funcion para centrar una matriz\n",
    "def center(row):\n",
    "    new_row = (row - row.mean()) / (row.max() - row.min())\n",
    "    return new_row"
   ]
  },
  {
   "cell_type": "code",
   "execution_count": 5,
   "metadata": {},
   "outputs": [],
   "source": [
    "matrix_std = matrix.apply(center)"
   ]
  },
  {
   "cell_type": "code",
   "execution_count": 6,
   "metadata": {},
   "outputs": [],
   "source": [
    "def gameRec(game):\n",
    "    centered_matrix_values = matrix_std[game]\n",
    "    #Calcula la correlación de pearson de un juego con los demás\n",
    "    centered_matrix_values = matrix.corrwith(centered_matrix_values).dropna()\n",
    "    #crea un dataframe que muestra las veces que cada juego ha sido jugado y la media del tiempo que ha sido jugado\n",
    "    gameData = clean_game_reviews_df.groupby('Game').agg({'PlayTime': [np.size, np.mean]})\n",
    "    #filtro que elimina los juegos jugados por menos de 100 usuarios.\n",
    "    gameSim = gameData['PlayTime']['size'] >= 100\n",
    "    #juntamos la columna de similaridad del dataframe filtrado con el dataframe que tiene el resto de datos\n",
    "    df = gameData[gameSim].join(pd.DataFrame(centered_matrix_values, columns=['similarity']), ['Game'])\n",
    "    return df.sort_values(['similarity'], ascending=False)[:6]\n"
   ]
  },
  {
   "cell_type": "code",
   "execution_count": 7,
   "metadata": {},
   "outputs": [
    {
     "name": "stderr",
     "output_type": "stream",
     "text": [
      "/tmp/ipykernel_741/3820704190.py:10: FutureWarning: merging between different levels is deprecated and will be removed in a future version. (2 levels on the left, 1 on the right)\n",
      "  df = gameData[gameSim].join(pd.DataFrame(centered_matrix_values, columns=['similarity']), ['Game'])\n"
     ]
    },
    {
     "data": {
      "text/html": [
       "<div>\n",
       "<style scoped>\n",
       "    .dataframe tbody tr th:only-of-type {\n",
       "        vertical-align: middle;\n",
       "    }\n",
       "\n",
       "    .dataframe tbody tr th {\n",
       "        vertical-align: top;\n",
       "    }\n",
       "\n",
       "    .dataframe thead th {\n",
       "        text-align: right;\n",
       "    }\n",
       "</style>\n",
       "<table border=\"1\" class=\"dataframe\">\n",
       "  <thead>\n",
       "    <tr style=\"text-align: right;\">\n",
       "      <th></th>\n",
       "      <th>(PlayTime, size)</th>\n",
       "      <th>(PlayTime, mean)</th>\n",
       "      <th>similarity</th>\n",
       "    </tr>\n",
       "    <tr>\n",
       "      <th>Game</th>\n",
       "      <th></th>\n",
       "      <th></th>\n",
       "      <th></th>\n",
       "    </tr>\n",
       "  </thead>\n",
       "  <tbody>\n",
       "    <tr>\n",
       "      <th>Fallout 4</th>\n",
       "      <td>335</td>\n",
       "      <td>32.629254</td>\n",
       "      <td>1.000000</td>\n",
       "    </tr>\n",
       "    <tr>\n",
       "      <th>Alan Wake</th>\n",
       "      <td>218</td>\n",
       "      <td>5.389908</td>\n",
       "      <td>0.345539</td>\n",
       "    </tr>\n",
       "    <tr>\n",
       "      <th>Darksiders</th>\n",
       "      <td>245</td>\n",
       "      <td>5.506122</td>\n",
       "      <td>0.315038</td>\n",
       "    </tr>\n",
       "    <tr>\n",
       "      <th>Middle-earth Shadow of Mordor</th>\n",
       "      <td>209</td>\n",
       "      <td>11.657895</td>\n",
       "      <td>0.269952</td>\n",
       "    </tr>\n",
       "    <tr>\n",
       "      <th>Company of Heroes</th>\n",
       "      <td>241</td>\n",
       "      <td>3.274689</td>\n",
       "      <td>0.269796</td>\n",
       "    </tr>\n",
       "    <tr>\n",
       "      <th>Borderlands</th>\n",
       "      <td>329</td>\n",
       "      <td>14.972036</td>\n",
       "      <td>0.263348</td>\n",
       "    </tr>\n",
       "  </tbody>\n",
       "</table>\n",
       "</div>"
      ],
      "text/plain": [
       "                               (PlayTime, size)  (PlayTime, mean)  similarity\n",
       "Game                                                                         \n",
       "Fallout 4                                   335         32.629254    1.000000\n",
       "Alan Wake                                   218          5.389908    0.345539\n",
       "Darksiders                                  245          5.506122    0.315038\n",
       "Middle-earth Shadow of Mordor               209         11.657895    0.269952\n",
       "Company of Heroes                           241          3.274689    0.269796\n",
       "Borderlands                                 329         14.972036    0.263348"
      ]
     },
     "execution_count": 7,
     "metadata": {},
     "output_type": "execute_result"
    }
   ],
   "source": [
    "gameRec(\"Fallout 4\")"
   ]
  }
 ],
 "metadata": {
  "kernelspec": {
   "display_name": "Python 3.9.15 ('sklearn-env')",
   "language": "python",
   "name": "python3"
  },
  "language_info": {
   "codemirror_mode": {
    "name": "ipython",
    "version": 3
   },
   "file_extension": ".py",
   "mimetype": "text/x-python",
   "name": "python",
   "nbconvert_exporter": "python",
   "pygments_lexer": "ipython3",
   "version": "3.9.15"
  },
  "orig_nbformat": 4,
  "vscode": {
   "interpreter": {
    "hash": "b5b0bceac983489eee595562626dfc69d58693c6ea01f0b27f34fa9d6b8e3c1a"
   }
  }
 },
 "nbformat": 4,
 "nbformat_minor": 2
}
